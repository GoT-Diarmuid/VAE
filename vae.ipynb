{
 "cells": [
  {
   "cell_type": "code",
   "execution_count": 40,
   "metadata": {},
   "outputs": [],
   "source": [
    "import numpy as np\n",
    "import pandas as pd\n",
    "from sklearn import preprocessing\n",
    "import matplotlib.pyplot as plt\n",
    "try:\n",
    "  # %tensorflow_version only exists in Colab.\n",
    "  %tensorflow_version 2.x\n",
    "except Exception:\n",
    "  pass\n",
    "import tensorflow as tf\n",
    "import numpy as np\n",
    "import matplotlib.pyplot as plt\n",
    "from sklearn.model_selection import train_test_split, cross_val_score, KFold\n",
    "from PIL import Image\n",
    "from tensorflow import keras\n",
    "from tensorflow.keras import datasets,layers,optimizers,Sequential,metrics\n",
    "import os\n",
    "import random\n",
    "from keras.preprocessing.image import ImageDataGenerator, load_img\n",
    "from keras.utils import to_categorical\n",
    "\n",
    "TRAIN_DIR = \"./dataset/dog vs cat/training_set/new\"\n",
    "TEST_DIR = \"./dataset/dog vs cat/test_set/new\""
   ]
  },
  {
   "cell_type": "code",
   "execution_count": 41,
   "metadata": {},
   "outputs": [],
   "source": [
    "def save_img(imgs,names):\n",
    "  img_new = Image.new('L',(280,280))\n",
    "  index = 0\n",
    "  for i in range(0,280,80):\n",
    "    for j in range(0,280,80):\n",
    "      img = imgs[index]\n",
    "      img = Image.fromarray(img,mode='L')\n",
    "      img_new.paste(img,(i,j))\n",
    "      index+=1\n",
    "  img_new.save(names)"
   ]
  },
  {
   "cell_type": "code",
   "execution_count": 42,
   "metadata": {},
   "outputs": [],
   "source": [
    "def feature_scale(x):\n",
    "  x = tf.cast(x,dtype=tf.float32)/255.\n",
    "#  y = tf.cast(y,dtype=tf.int32)\n",
    "  return x"
   ]
  },
  {
   "cell_type": "code",
   "execution_count": 43,
   "metadata": {},
   "outputs": [],
   "source": [
    "def feature_scale(x):\n",
    "  x = tf.cast(x,dtype=tf.float32)/255.\n",
    "#  y = tf.cast(y,dtype=tf.int32)\n",
    "  return x"
   ]
  },
  {
   "cell_type": "code",
   "execution_count": 44,
   "metadata": {},
   "outputs": [],
   "source": [
    "#Dim reduct nums\n",
    "dim_reduce = 10\n",
    "batch_num = 128\n",
    "lr = 1e-3"
   ]
  },
  {
   "cell_type": "code",
   "execution_count": 45,
   "metadata": {},
   "outputs": [],
   "source": [
    "train_datagen = ImageDataGenerator(\n",
    "    rescale=1./255,\n",
    "    rotation_range=30,\n",
    "    width_shift_range=0.15,\n",
    "    height_shift_range=0.15,\n",
    "    shear_range=0.15,\n",
    "    zoom_range=0.15,\n",
    "    horizontal_flip=True)"
   ]
  },
  {
   "cell_type": "code",
   "execution_count": 80,
   "metadata": {},
   "outputs": [],
   "source": [
    "filenames = os.listdir(TRAIN_DIR)\n",
    "categories = []\n",
    "for filename in filenames:\n",
    "    category = filename.split('.')[0]\n",
    "    if category == 'dog':\n",
    "        categories.append('dog')\n",
    "    else:\n",
    "        categories.append('cat')\n",
    "\n",
    "all_df = pd.DataFrame({\n",
    "    'filename': filenames\n",
    "})\n",
    "\n",
    "test_filenames = os.listdir(TEST_DIR)\n",
    "test_df = pd.DataFrame({\n",
    "    'id': test_filenames\n",
    "})\n",
    "\n",
    "train_df, validate_df = train_test_split(all_df, test_size=0.20, random_state=0)\n",
    "train_df = train_df.reset_index(drop=True)\n",
    "validate_df = validate_df.reset_index(drop=True)"
   ]
  },
  {
   "cell_type": "code",
   "execution_count": 97,
   "metadata": {},
   "outputs": [
    {
     "name": "stdout",
     "output_type": "stream",
     "text": [
      "Found 1 validated image filenames.\n"
     ]
    }
   ],
   "source": [
    "sample_df = train_df.sample(n=1).reset_index(drop=True)\n",
    "sample_generator = train_datagen.flow_from_dataframe(\n",
    "    sample_df,\n",
    "    TRAIN_DIR,\n",
    "    x_col='filename',\n",
    "    y_col='category',\n",
    "    target_size = (32, 32),\n",
    "    class_mode=None\n",
    ")"
   ]
  },
  {
   "cell_type": "code",
   "execution_count": 91,
   "metadata": {},
   "outputs": [
    {
     "name": "stdout",
     "output_type": "stream",
     "text": [
      "Found 6400 validated image filenames.\n"
     ]
    }
   ],
   "source": [
    "train_generator = train_datagen.flow_from_dataframe(\n",
    "    train_df,\n",
    "    TRAIN_DIR,\n",
    "    x_col='filename',\n",
    "    y_col=None,\n",
    "    target_size=(32, 32),\n",
    "    batch_size=70,\n",
    "    class_mode=None)"
   ]
  },
  {
   "cell_type": "code",
   "execution_count": 63,
   "metadata": {},
   "outputs": [
    {
     "name": "stdout",
     "output_type": "stream",
     "text": [
      "Found 1600 validated image filenames belonging to 2 classes.\n"
     ]
    }
   ],
   "source": [
    "test_datagen = ImageDataGenerator(rescale=1./255)\n",
    "validation_generator = test_datagen.flow_from_dataframe(\n",
    "        validate_df, \n",
    "        TRAIN_DIR,\n",
    "        x_col='filename',\n",
    "        y_col='category',\n",
    "        target_size=(64, 64),\n",
    "        batch_size=70,\n",
    "        class_mode='binary')"
   ]
  },
  {
   "cell_type": "code",
   "execution_count": 92,
   "metadata": {},
   "outputs": [
    {
     "name": "stdout",
     "output_type": "stream",
     "text": [
      "Found 2000 validated image filenames.\n"
     ]
    }
   ],
   "source": [
    "test_generator = test_datagen.flow_from_dataframe(\n",
    "        test_df, \n",
    "        TEST_DIR,\n",
    "        x_col='id',\n",
    "        y_col=None,\n",
    "        class_mode=None,\n",
    "        target_size=(32, 32),\n",
    "        batch_size=12500//50)"
   ]
  },
  {
   "cell_type": "code",
   "execution_count": 109,
   "metadata": {},
   "outputs": [],
   "source": [
    "k = train_generator\n",
    "kt = test_generator"
   ]
  },
  {
   "cell_type": "code",
   "execution_count": 102,
   "metadata": {},
   "outputs": [
    {
     "data": {
      "text/plain": [
       "70"
      ]
     },
     "execution_count": 102,
     "metadata": {},
     "output_type": "execute_result"
    }
   ],
   "source": [
    "(x,y),(x_test,y_test) = datasets.fashion_mnist.load_data()\n",
    "data = tf.data.Dataset.from_tensor_slices(x)\n",
    "data = data.map(feature_scale).shuffle(10000).batch(128)\n",
    "\n",
    "#print(data)\n",
    "#print(next(iter(data)))\n",
    "data_test = tf.data.Dataset.from_tensor_slices(x_test)\n",
    "data_test = data_test.map(feature_scale).batch(128)\n",
    "\"\"\"\n",
    "data_iter = iter(data)\n",
    "samples = next(data_iter)\n",
    "print(samples.shape)\n",
    "\"\"\"\n",
    "data_iter = iter(k)\n",
    "samples = next(data_iter)\n",
    "\n",
    "len(samples)"
   ]
  },
  {
   "cell_type": "code",
   "execution_count": 89,
   "metadata": {},
   "outputs": [
    {
     "data": {
      "image/png": "[encoded data removed]",
      "text/plain": [
       "<Figure size 1152x360 with 10 Axes>"
      ]
     },
     "metadata": {
      "needs_background": "light"
     },
     "output_type": "display_data"
    }
   ],
   "source": [
    "batch = next(train_generator)\n",
    "batch_images = np.array(batch)\n",
    "\n",
    "plt.figure(figsize=(16,5))\n",
    "plt.suptitle(\"Unaugmented images\", fontsize=16)\n",
    "for n, i in enumerate(np.arange(10)):\n",
    "    ax = plt.subplot(2, 5, n+1)\n",
    "    plt.imshow(batch_images[i])\n",
    "    plt.axis('off')"
   ]
  },
  {
   "cell_type": "code",
   "execution_count": 22,
   "metadata": {},
   "outputs": [],
   "source": [
    "class VAE(keras.Model):\n",
    "  def __init__(self):\n",
    "    super(VAE,self).__init__()\n",
    "    #encoder\n",
    "    self.fc_layer_1 = layers.Dense(128)\n",
    "    self.fc_layer_2 = layers.Dense(256)\n",
    "    self.fc_layer_3 = layers.Dense(256)\n",
    "    self.fc_layer_4 = layers.Dense(512)\n",
    "    self.fc_layer_5 = layers.Dense(1024)\n",
    "    \n",
    "\n",
    "  def model_encoder(self, x):\n",
    "    h = tf.nn.relu(self.fc_layer_1(x))\n",
    "    mean_fc = self.fc_layer_2(h)\n",
    "    var_fc = self.fc_layer_3(h)\n",
    "    return mean_fc,var_fc\n",
    "\n",
    "  def model_decoder(self, z):\n",
    "    out = tf.nn.relu(self.fc_layer_4(z))\n",
    "    out = self.fc_layer_5(out)\n",
    "    return out\n",
    "\n",
    "  def reparameter(self,mean_x,var_x):\n",
    "    eps = tf.random.normal(var_x.shape)\n",
    "    std = tf.exp(var_x)**0.5\n",
    "    z = mean_x + std*eps\n",
    "    return z\n",
    "  \n",
    "  def call(self, inputs, training=None):\n",
    "    mean_x,var_x = self.model_encoder(inputs)\n",
    "    z = self.reparameter(mean_x,var_x)\n",
    "    x = self.model_decoder(z)\n",
    "    return x,mean_x,var_x"
   ]
  },
  {
   "cell_type": "code",
   "execution_count": 23,
   "metadata": {},
   "outputs": [
    {
     "name": "stdout",
     "output_type": "stream",
     "text": [
      "Model: \"vae_4\"\n",
      "_________________________________________________________________\n",
      "Layer (type)                 Output Shape              Param #   \n",
      "=================================================================\n",
      "dense_20 (Dense)             multiple                  131200    \n",
      "_________________________________________________________________\n",
      "dense_21 (Dense)             multiple                  33024     \n",
      "_________________________________________________________________\n",
      "dense_22 (Dense)             multiple                  33024     \n",
      "_________________________________________________________________\n",
      "dense_23 (Dense)             multiple                  131584    \n",
      "_________________________________________________________________\n",
      "dense_24 (Dense)             multiple                  525312    \n",
      "=================================================================\n",
      "Total params: 854,144\n",
      "Trainable params: 854,144\n",
      "Non-trainable params: 0\n",
      "_________________________________________________________________\n"
     ]
    }
   ],
   "source": [
    "model = VAE()\n",
    "model.build(input_shape=(1,1024))\n",
    "optimizer = optimizers.Adam(lr=lr)\n",
    "model.summary()\n",
    "model.compile(optimizer = optimizer)"
   ]
  },
  {
   "cell_type": "code",
   "execution_count": null,
   "metadata": {},
   "outputs": [],
   "source": [
    "!rm -rf img_result\n",
    "!mkdir img_result"
   ]
  },
  {
   "cell_type": "code",
   "execution_count": 106,
   "metadata": {},
   "outputs": [
    {
     "name": "stdout",
     "output_type": "stream",
     "text": [
      "<keras.preprocessing.image.DataFrameIterator object at 0x00000266C79A63C8>\n"
     ]
    }
   ],
   "source": [
    "print(iter(k))"
   ]
  },
  {
   "cell_type": "code",
   "execution_count": 112,
   "metadata": {},
   "outputs": [
    {
     "name": "stdout",
     "output_type": "stream",
     "text": [
      "0 loss: 486.228515625 kl_div: 20.83652114868164\n",
      "100 loss: 640.6310424804688 kl_div: 11.450762748718262\n",
      "200 loss: 354.126708984375 kl_div: 19.380722045898438\n",
      "300 loss: 711.0564575195312 kl_div: 10.523764610290527\n",
      "400 loss: 664.1076049804688 kl_div: 11.43496036529541\n",
      "500 loss: 599.5255126953125 kl_div: 14.445881843566895\n",
      "600 loss: 651.960693359375 kl_div: 14.919670104980469\n",
      "700 loss: 489.7490234375 kl_div: 13.57445240020752\n",
      "800 loss: 689.1319580078125 kl_div: 11.66637897491455\n",
      "900 loss: 685.9877319335938 kl_div: 13.177290916442871\n"
     ]
    }
   ],
   "source": [
    "optimizer = optimizers.Adam(lr=lr)\n",
    "for i in range(1000):\n",
    "    data_iter = iter(k)\n",
    "    samples = next(data_iter)\n",
    "    \n",
    "    for x in iter(samples):\n",
    "        x = tf.reshape(x,[-1,1024])\n",
    "        with tf.GradientTape() as tape:\n",
    "            logits,mean_x,var_x = model(x)\n",
    "            loss = tf.nn.sigmoid_cross_entropy_with_logits(labels=x,logits=logits)\n",
    "            loss = tf.reduce_sum(loss)/x.shape[0]\n",
    "            kl_div = -0.5*(var_x+1-mean_x**2-tf.exp(var_x))\n",
    "            kl_div = tf.reduce_sum(kl_div)/x.shape[0]\n",
    "            \n",
    "            loss = loss + 1.*kl_div\n",
    "        grads = tape.gradient(loss,model.trainable_variables)\n",
    "        optimizer.apply_gradients(zip(grads,model.trainable_variables))\n",
    "        \n",
    "        \n",
    "        \"\"\"if step %100==0:\n",
    "            print(i,step,'loss:',float(loss),'kl_div:',float(kl_div))\"\"\"\n",
    "            \n",
    "    x = next(iter(kt))\n",
    "    x = tf.reshape(new_x,[-1,1024])\n",
    "    logits,_,_ = model(x)\n",
    "    x_hat = tf.sigmoid(logits)\n",
    "    x_hat = tf.reshape(x_hat,[-1,32,32])\n",
    "    x_hat = x_hat.numpy()*255\n",
    "    x_hat = x_hat.astype(np.uint8)\n",
    "    \n",
    "    if i%100==0:\n",
    "        print(i,'loss:',float(loss),'kl_div:',float(kl_div))\n",
    "        save_img(x_hat,'img_result/AE_img_%d.png'%i)"
   ]
  },
  {
   "cell_type": "code",
   "execution_count": null,
   "metadata": {},
   "outputs": [],
   "source": []
  }
 ],
 "metadata": {
  "kernelspec": {
   "display_name": "Python 3",
   "language": "python",
   "name": "python3"
  },
  "language_info": {
   "codemirror_mode": {
    "name": "ipython",
    "version": 3
   },
   "file_extension": ".py",
   "mimetype": "text/x-python",
   "name": "python",
   "nbconvert_exporter": "python",
   "pygments_lexer": "ipython3",
   "version": "3.7.5"
  }
 },
 "nbformat": 4,
 "nbformat_minor": 4
}
